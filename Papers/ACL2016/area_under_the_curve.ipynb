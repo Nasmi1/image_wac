{
 "cells": [
  {
   "cell_type": "code",
   "execution_count": 1,
   "metadata": {
    "collapsed": false
   },
   "outputs": [],
   "source": [
    "from __future__ import division\n",
    "import pandas as pd\n",
    "import numpy as np\n",
    "import gzip\n",
    "import cPickle as pickle\n",
    "import json\n",
    "\n",
    "import scipy.stats\n",
    "\n",
    "from time import strftime\n",
    "\n",
    "import sys\n",
    "\n",
    "from collections import Counter\n",
    "from operator import itemgetter\n",
    "\n",
    "from tqdm import tqdm\n",
    "\n",
    "import matplotlib\n",
    "import matplotlib.pyplot as plt\n",
    "%matplotlib inline\n",
    "\n",
    "sys.path.append('../TrainModels')\n",
    "sys.path.append('../ApplyModels')\n",
    "sys.path.append('../Utils')\n",
    "from utils import filter_by_filelist, plot_labelled_bb\n",
    "from utils import saiapr_image_filename, mscoco_image_filename, separation_plot\n",
    "from train_model import STOPWORDS, is_relational\n",
    "from train_model import create_word2den, make_train\n",
    "from apply_model import make_test"
   ]
  },
  {
   "cell_type": "code",
   "execution_count": 2,
   "metadata": {
    "collapsed": true
   },
   "outputs": [],
   "source": [
    "from sklearn.metrics import average_precision_score"
   ]
  },
  {
   "cell_type": "code",
   "execution_count": 3,
   "metadata": {
    "collapsed": true
   },
   "outputs": [],
   "source": [
    "from tqdm import tqdm"
   ]
  },
  {
   "cell_type": "code",
   "execution_count": 4,
   "metadata": {
    "collapsed": false
   },
   "outputs": [],
   "source": [
    "with gzip.open('../Preproc/PreProcOut/saiapr_refdf.pklz', 'r') as f:\n",
    "    srefdf = pickle.load(f)\n",
    "\n",
    "\n",
    "## Splits\n",
    "\n",
    "with open('../Preproc/PreProcOut/saiapr_90-10_splits.json', 'r') as f:\n",
    "    ssplit90 = json.load(f)\n"
   ]
  },
  {
   "cell_type": "code",
   "execution_count": 5,
   "metadata": {
    "collapsed": true
   },
   "outputs": [],
   "source": [
    "X = np.load('/Volumes/USB_128GB/Models/2016-v3-image-wac/saiapr.npz')\n",
    "X = X['arr_0']"
   ]
  },
  {
   "cell_type": "code",
   "execution_count": 7,
   "metadata": {
    "collapsed": false
   },
   "outputs": [],
   "source": [
    "with gzip.open('../TrainModels/TrainedModels/model05_sr5r.pklz', 'r') as f:\n",
    "    wac_05 = pickle.load(f)"
   ]
  },
  {
   "cell_type": "code",
   "execution_count": 8,
   "metadata": {
    "collapsed": true
   },
   "outputs": [],
   "source": [
    "wac = wac_05"
   ]
  },
  {
   "cell_type": "code",
   "execution_count": 9,
   "metadata": {
    "collapsed": true
   },
   "outputs": [],
   "source": [
    "trefdf = filter_by_filelist(srefdf, ssplit90['train'])"
   ]
  },
  {
   "cell_type": "code",
   "execution_count": 13,
   "metadata": {
    "collapsed": false
   },
   "outputs": [],
   "source": [
    "def run_wac_on_data(refdf, X, wac, word, nneg=3, nsrc='random'):\n",
    "    w2d = create_word2den(refdf, [word])\n",
    "    if word not in w2d:\n",
    "        return False, False\n",
    "    X_t, y_t = make_train(X, w2d, word, nneg, nsrc)\n",
    "    res = wac[word]['clsf'].predict_proba(X_t)[:,1]\n",
    "    return np.array(y_t), res\n",
    "\n",
    "def test_vocab(testdf, X, wac, vocab):\n",
    "    out = []\n",
    "    for word in tqdm(vocab):\n",
    "        y_true, y_score = run_wac_on_data(testdf, X, wac, word)\n",
    "        if y_score is False:\n",
    "            continue\n",
    "        auc = (average_precision_score(y_true, y_score))\n",
    "        pos = wac[word]['npos']\n",
    "        out.append((word, auc, pos))\n",
    "    return out"
   ]
  },
  {
   "cell_type": "code",
   "execution_count": 23,
   "metadata": {
    "collapsed": false
   },
   "outputs": [
    {
     "name": "stdout",
     "output_type": "stream",
     "text": [
      "more than one feature vec for this region (27000, 4)!\n",
      "skipping all of it\n"
     ]
    },
    {
     "data": {
      "text/plain": [
       "0.80783995170953549"
      ]
     },
     "execution_count": 23,
     "metadata": {},
     "output_type": "execute_result"
    }
   ],
   "source": [
    "average_precision_score(*run_wac_on_data(trefdf, X, wac, 'water'))"
   ]
  },
  {
   "cell_type": "code",
   "execution_count": 24,
   "metadata": {
    "collapsed": false
   },
   "outputs": [
    {
     "data": {
      "text/plain": [
       "0.48812499200606818"
      ]
     },
     "execution_count": 24,
     "metadata": {},
     "output_type": "execute_result"
    }
   ],
   "source": [
    "average_precision_score(*run_wac_on_data(trefdf, X, wac, 'white'))"
   ]
  },
  {
   "cell_type": "code",
   "execution_count": 25,
   "metadata": {
    "collapsed": false
   },
   "outputs": [
    {
     "data": {
      "text/plain": [
       "0.57636869798952806"
      ]
     },
     "execution_count": 25,
     "metadata": {},
     "output_type": "execute_result"
    }
   ],
   "source": [
    "average_precision_score(*run_wac_on_data(trefdf, X, wac, 'yellow'))"
   ]
  },
  {
   "cell_type": "code",
   "execution_count": 14,
   "metadata": {
    "collapsed": false
   },
   "outputs": [
    {
     "name": "stderr",
     "output_type": "stream",
     "text": []
    },
    {
     "data": {
      "text/plain": [
       "[('boy', 0.79471755821090984, 2177), ('girl', 0.71328503310675773, 6108)]"
      ]
     },
     "execution_count": 14,
     "metadata": {},
     "output_type": "execute_result"
    }
   ],
   "source": [
    "test_vocab(trefdf, X, wac, ['boy', 'girl'])"
   ]
  },
  {
   "cell_type": "code",
   "execution_count": 15,
   "metadata": {
    "collapsed": false
   },
   "outputs": [
    {
     "data": {
      "text/plain": [
       "793"
      ]
     },
     "execution_count": 15,
     "metadata": {},
     "output_type": "execute_result"
    }
   ],
   "source": [
    "len(wac.keys())"
   ]
  },
  {
   "cell_type": "code",
   "execution_count": 16,
   "metadata": {
    "collapsed": false
   },
   "outputs": [
    {
     "name": "stderr",
     "output_type": "stream",
     "text": [
      "  4%|▍         | 34/793 [05:56<2:12:40,  0.10it/s]"
     ]
    },
    {
     "name": "stdout",
     "output_type": "stream",
     "text": [
      "more than one feature vec for this region (27000, 3)!\n",
      "skipping all of it\n",
      "more than one feature vec for this region (8103, 3)!"
     ]
    },
    {
     "name": "stderr",
     "output_type": "stream",
     "text": [
      "  6%|▌         | 46/793 [07:48<2:06:55,  0.10it/s]"
     ]
    },
    {
     "name": "stdout",
     "output_type": "stream",
     "text": [
      "\n",
      "skipping all of it\n",
      "more than one feature vec for this region (27000, 8)!"
     ]
    },
    {
     "name": "stderr",
     "output_type": "stream",
     "text": [
      "  6%|▌         | 49/793 [08:35<2:10:27,  0.10it/s]"
     ]
    },
    {
     "name": "stdout",
     "output_type": "stream",
     "text": [
      "\n",
      "skipping all of it\n",
      "more than one feature vec for this region (27000, 3)!\n",
      "skipping all of it\n",
      "more than one feature vec for this region (19579, 2)!"
     ]
    },
    {
     "name": "stderr",
     "output_type": "stream",
     "text": [
      "  9%|▉         | 73/793 [12:30<2:03:22,  0.10it/s]"
     ]
    },
    {
     "name": "stdout",
     "output_type": "stream",
     "text": [
      "\n",
      "skipping all of it\n",
      "more than one feature vec for this region (19575, 1)!"
     ]
    },
    {
     "name": "stderr",
     "output_type": "stream",
     "text": [
      " 10%|▉         | 78/793 [13:13<2:01:11,  0.10it/s]"
     ]
    },
    {
     "name": "stdout",
     "output_type": "stream",
     "text": [
      "\n",
      "skipping all of it\n",
      "more than one feature vec for this region (27000, 4)!"
     ]
    },
    {
     "name": "stderr",
     "output_type": "stream",
     "text": [
      " 14%|█▎        | 109/793 [17:51<1:52:02,  0.10it/s]"
     ]
    },
    {
     "name": "stdout",
     "output_type": "stream",
     "text": [
      "\n",
      "skipping all of it\n",
      "more than one feature vec for this region (27000, 9)!"
     ]
    },
    {
     "name": "stderr",
     "output_type": "stream",
     "text": [
      " 17%|█▋        | 133/793 [21:29<1:46:37,  0.10it/s]"
     ]
    },
    {
     "name": "stdout",
     "output_type": "stream",
     "text": [
      "\n",
      "skipping all of it\n",
      "more than one feature vec for this region (19579, 1)!"
     ]
    },
    {
     "name": "stderr",
     "output_type": "stream",
     "text": [
      " 18%|█▊        | 140/793 [23:17<1:48:39,  0.10it/s]"
     ]
    },
    {
     "name": "stdout",
     "output_type": "stream",
     "text": [
      "\n",
      "skipping all of it\n",
      "more than one feature vec for this region (19579, 1)!"
     ]
    },
    {
     "name": "stderr",
     "output_type": "stream",
     "text": [
      " 21%|██        | 164/793 [26:27<1:41:28,  0.10it/s]"
     ]
    },
    {
     "name": "stdout",
     "output_type": "stream",
     "text": [
      "\n",
      "skipping all of it\n",
      "more than one feature vec for this region (19579, 1)!\n",
      "skipping all of it\n",
      "more than one feature vec for this region (19579, 1)!\n",
      "skipping all of it\n",
      "more than one feature vec for this region (27000, 9)!\n",
      "skipping all of it\n",
      "more than one feature vec for this region (27000, 9)!\n",
      "skipping all of it\n",
      "more than one feature vec for this region (27000, 9)!\n",
      "skipping all of it\n",
      "more than one feature vec for this region (9873, 10)!"
     ]
    },
    {
     "name": "stderr",
     "output_type": "stream",
     "text": [
      " 23%|██▎       | 184/793 [29:28<1:37:32,  0.10it/s]"
     ]
    },
    {
     "name": "stdout",
     "output_type": "stream",
     "text": [
      "\n",
      "skipping all of it\n",
      "more than one feature vec for this region (19579, 1)!"
     ]
    },
    {
     "name": "stderr",
     "output_type": "stream",
     "text": [
      " 24%|██▍       | 190/793 [30:35<1:37:06,  0.10it/s]"
     ]
    },
    {
     "name": "stdout",
     "output_type": "stream",
     "text": [
      "\n",
      "skipping all of it\n",
      "more than one feature vec for this region (27000, 3)!"
     ]
    },
    {
     "name": "stderr",
     "output_type": "stream",
     "text": [
      " 28%|██▊       | 226/793 [36:04<1:30:29,  0.10it/s]"
     ]
    },
    {
     "name": "stdout",
     "output_type": "stream",
     "text": [
      "\n",
      "skipping all of it\n",
      "more than one feature vec for this region (27000, 3)!\n",
      "skipping all of it\n",
      "more than one feature vec for this region (27000, 3)!\n",
      "skipping all of it\n",
      "more than one feature vec for this region (27000, 7)!"
     ]
    },
    {
     "name": "stderr",
     "output_type": "stream",
     "text": [
      " 32%|███▏      | 251/793 [39:05<1:24:25,  0.11it/s]"
     ]
    },
    {
     "name": "stdout",
     "output_type": "stream",
     "text": [
      "\n",
      "skipping all of it\n",
      "more than one feature vec for this region (27000, 3)!"
     ]
    },
    {
     "name": "stderr",
     "output_type": "stream",
     "text": [
      " 38%|███▊      | 302/793 [46:08<1:15:01,  0.11it/s]"
     ]
    },
    {
     "name": "stdout",
     "output_type": "stream",
     "text": [
      "\n",
      "skipping all of it\n",
      "more than one feature vec for this region (8103, 3)!"
     ]
    },
    {
     "name": "stderr",
     "output_type": "stream",
     "text": [
      " 40%|███▉      | 314/793 [47:41<1:12:45,  0.11it/s]"
     ]
    },
    {
     "name": "stdout",
     "output_type": "stream",
     "text": [
      "\n",
      "skipping all of it\n",
      "more than one feature vec for this region (19575, 2)!"
     ]
    },
    {
     "name": "stderr",
     "output_type": "stream",
     "text": [
      " 45%|████▍     | 353/793 [54:19<1:07:43,  0.11it/s]"
     ]
    },
    {
     "name": "stdout",
     "output_type": "stream",
     "text": [
      "\n",
      "skipping all of it\n",
      "more than one feature vec for this region (19579, 1)!"
     ]
    },
    {
     "name": "stderr",
     "output_type": "stream",
     "text": [
      " 45%|████▌     | 358/793 [55:24<1:07:19,  0.11it/s]"
     ]
    },
    {
     "name": "stdout",
     "output_type": "stream",
     "text": [
      "\n",
      "skipping all of it\n",
      "more than one feature vec for this region (19575, 2)!"
     ]
    },
    {
     "name": "stderr",
     "output_type": "stream",
     "text": [
      " 47%|████▋     | 371/793 [57:04<1:04:54,  0.11it/s]"
     ]
    },
    {
     "name": "stdout",
     "output_type": "stream",
     "text": [
      "\n",
      "skipping all of it\n",
      "more than one feature vec for this region (19575, 2)!"
     ]
    },
    {
     "name": "stderr",
     "output_type": "stream",
     "text": [
      "\r",
      " 47%|████▋     | 372/793 [57:19<1:04:52,  0.11it/s]"
     ]
    },
    {
     "name": "stdout",
     "output_type": "stream",
     "text": [
      "\n",
      "skipping all of it\n",
      "more than one feature vec for this region (27000, 8)!"
     ]
    },
    {
     "name": "stderr",
     "output_type": "stream",
     "text": [
      " 47%|████▋     | 375/793 [57:52<1:04:30,  0.11it/s]"
     ]
    },
    {
     "name": "stdout",
     "output_type": "stream",
     "text": [
      "\n",
      "skipping all of it\n",
      "more than one feature vec for this region (27000, 7)!\n",
      "skipping all of it\n",
      "more than one feature vec for this region (19575, 2)!"
     ]
    },
    {
     "name": "stderr",
     "output_type": "stream",
     "text": [
      "\r",
      " 47%|████▋     | 376/793 [58:03<1:04:22,  0.11it/s]"
     ]
    },
    {
     "name": "stdout",
     "output_type": "stream",
     "text": [
      "\n",
      "skipping all of it\n",
      "more than one feature vec for this region (19579, 1)!"
     ]
    },
    {
     "name": "stderr",
     "output_type": "stream",
     "text": [
      " 50%|█████     | 398/793 [1:00:55<1:00:28,  0.11it/s]"
     ]
    },
    {
     "name": "stdout",
     "output_type": "stream",
     "text": [
      "\n",
      "skipping all of it\n",
      "more than one feature vec for this region (27000, 7)!\n",
      "skipping all of it\n",
      "more than one feature vec for this region (27000, 2)!\n",
      "skipping all of it\n",
      "more than one feature vec for this region (19579, 2)!"
     ]
    },
    {
     "name": "stderr",
     "output_type": "stream",
     "text": [
      " 53%|█████▎    | 418/793 [1:08:21<1:01:19,  0.10it/s]"
     ]
    },
    {
     "name": "stdout",
     "output_type": "stream",
     "text": [
      "\n",
      "skipping all of it\n",
      "more than one feature vec for this region (8103, 3)!"
     ]
    },
    {
     "name": "stderr",
     "output_type": "stream",
     "text": [
      " 62%|██████▏   | 488/793 [1:17:22<48:21,  0.11it/s]"
     ]
    },
    {
     "name": "stdout",
     "output_type": "stream",
     "text": [
      "\n",
      "skipping all of it\n",
      "more than one feature vec for this region (19575, 2)!"
     ]
    },
    {
     "name": "stderr",
     "output_type": "stream",
     "text": [
      " 67%|██████▋   | 530/793 [1:23:04<41:13,  0.11it/s]"
     ]
    },
    {
     "name": "stdout",
     "output_type": "stream",
     "text": [
      "\n",
      "skipping all of it\n",
      "more than one feature vec for this region (19579, 1)!"
     ]
    },
    {
     "name": "stderr",
     "output_type": "stream",
     "text": [
      " 72%|███████▏  | 574/793 [1:30:35<34:33,  0.11it/s]"
     ]
    },
    {
     "name": "stdout",
     "output_type": "stream",
     "text": [
      "\n",
      "skipping all of it\n",
      "more than one feature vec for this region (8103, 3)!"
     ]
    },
    {
     "name": "stderr",
     "output_type": "stream",
     "text": [
      " 74%|███████▍  | 586/793 [1:32:19<32:36,  0.11it/s]"
     ]
    },
    {
     "name": "stdout",
     "output_type": "stream",
     "text": [
      "\n",
      "skipping all of it\n",
      "more than one feature vec for this region (27000, 3)!"
     ]
    },
    {
     "name": "stderr",
     "output_type": "stream",
     "text": [
      " 76%|███████▌  | 601/793 [1:34:42<30:15,  0.11it/s]"
     ]
    },
    {
     "name": "stdout",
     "output_type": "stream",
     "text": [
      "\n",
      "skipping all of it\n",
      "more than one feature vec for this region (27000, 8)!"
     ]
    },
    {
     "name": "stderr",
     "output_type": "stream",
     "text": [
      " 77%|███████▋  | 610/793 [1:36:13<28:52,  0.11it/s]"
     ]
    },
    {
     "name": "stdout",
     "output_type": "stream",
     "text": [
      "\n",
      "skipping all of it\n",
      "more than one feature vec for this region (27000, 7)!\n",
      "skipping all of it\n",
      "more than one feature vec for this region (8103, 3)!"
     ]
    },
    {
     "name": "stderr",
     "output_type": "stream",
     "text": [
      "\r",
      " 77%|███████▋  | 611/793 [1:36:21<28:42,  0.11it/s]"
     ]
    },
    {
     "name": "stdout",
     "output_type": "stream",
     "text": [
      "\n",
      "skipping all of it\n",
      "more than one feature vec for this region (8103, 3)!\n",
      "skipping all of it\n",
      "more than one feature vec for this region (8103, 3)!\n",
      "skipping all of it\n",
      "more than one feature vec for this region (27000, 5)!\n",
      "skipping all of it\n",
      "more than one feature vec for this region (19579, 2)!\n",
      "skipping all of it\n",
      "more than one feature vec for this region (19579, 1)!\n",
      "skipping all of it\n",
      "more than one feature vec for this region (19579, 1)!\n",
      "skipping all of it\n",
      "more than one feature vec for this region (8103, 1)!"
     ]
    },
    {
     "name": "stderr",
     "output_type": "stream",
     "text": [
      " 78%|███████▊  | 619/793 [1:39:12<27:53,  0.10it/s]"
     ]
    },
    {
     "name": "stdout",
     "output_type": "stream",
     "text": [
      "\n",
      "skipping all of it\n",
      "more than one feature vec for this region (9873, 10)!"
     ]
    },
    {
     "name": "stderr",
     "output_type": "stream",
     "text": [
      " 81%|████████  | 642/793 [1:42:12<24:02,  0.10it/s]"
     ]
    },
    {
     "name": "stdout",
     "output_type": "stream",
     "text": [
      "\n",
      "skipping all of it\n",
      "more than one feature vec for this region (8103, 3)!"
     ]
    },
    {
     "name": "stderr",
     "output_type": "stream",
     "text": [
      " 83%|████████▎ | 655/793 [1:44:05<21:55,  0.10it/s]"
     ]
    },
    {
     "name": "stdout",
     "output_type": "stream",
     "text": [
      "\n",
      "skipping all of it\n",
      "more than one feature vec for this region (27000, 8)!\n",
      "skipping all of it\n",
      "more than one feature vec for this region (27000, 9)!\n",
      "skipping all of it\n",
      "more than one feature vec for this region (9873, 10)!\n",
      "skipping all of it\n",
      "more than one feature vec for this region (19575, 2)!"
     ]
    },
    {
     "name": "stderr",
     "output_type": "stream",
     "text": [
      " 83%|████████▎ | 658/793 [1:48:27<22:15,  0.10it/s]"
     ]
    },
    {
     "name": "stdout",
     "output_type": "stream",
     "text": [
      "\n",
      "skipping all of it\n",
      "more than one feature vec for this region (8103, 2)!"
     ]
    },
    {
     "name": "stderr",
     "output_type": "stream",
     "text": [
      " 87%|████████▋ | 688/793 [1:52:54<17:13,  0.10it/s]"
     ]
    },
    {
     "name": "stdout",
     "output_type": "stream",
     "text": [
      "\n",
      "skipping all of it\n",
      "more than one feature vec for this region (8103, 3)!\n",
      "skipping all of it\n",
      "more than one feature vec for this region (27000, 8)!\n",
      "skipping all of it\n",
      "more than one feature vec for this region (27000, 7)!\n",
      "skipping all of it\n",
      "more than one feature vec for this region (27000, 3)!\n",
      "skipping all of it\n",
      "more than one feature vec for this region (19575, 2)!"
     ]
    },
    {
     "name": "stderr",
     "output_type": "stream",
     "text": [
      " 87%|████████▋ | 690/793 [1:56:11<17:20,  0.10it/s]"
     ]
    },
    {
     "name": "stdout",
     "output_type": "stream",
     "text": [
      "\n",
      "skipping all of it\n",
      "more than one feature vec for this region (19575, 2)!\n",
      "skipping all of it\n",
      "more than one feature vec for this region (19579, 1)!"
     ]
    },
    {
     "name": "stderr",
     "output_type": "stream",
     "text": [
      " 89%|████████▉ | 705/793 [2:00:25<15:01,  0.10it/s]"
     ]
    },
    {
     "name": "stdout",
     "output_type": "stream",
     "text": [
      "\n",
      "skipping all of it\n",
      "more than one feature vec for this region (27000, 3)!"
     ]
    },
    {
     "name": "stderr",
     "output_type": "stream",
     "text": [
      " 91%|█████████▏| 724/793 [2:02:53<11:42,  0.10it/s]"
     ]
    },
    {
     "name": "stdout",
     "output_type": "stream",
     "text": [
      "\n",
      "skipping all of it\n",
      "more than one feature vec for this region (27000, 6)!"
     ]
    },
    {
     "name": "stderr",
     "output_type": "stream",
     "text": [
      " 92%|█████████▏| 729/793 [2:03:40<10:51,  0.10it/s]"
     ]
    },
    {
     "name": "stdout",
     "output_type": "stream",
     "text": [
      "\n",
      "skipping all of it\n",
      "more than one feature vec for this region (19579, 1)!\n",
      "skipping all of it\n",
      "more than one feature vec for this region (8103, 3)!"
     ]
    },
    {
     "name": "stderr",
     "output_type": "stream",
     "text": [
      " 95%|█████████▌| 754/793 [2:06:54<06:33,  0.10it/s]"
     ]
    },
    {
     "name": "stdout",
     "output_type": "stream",
     "text": [
      "\n",
      "skipping all of it\n",
      "more than one feature vec for this region (19579, 2)!"
     ]
    },
    {
     "name": "stderr",
     "output_type": "stream",
     "text": [
      " 97%|█████████▋| 767/793 [2:08:39<04:21,  0.10it/s]"
     ]
    },
    {
     "name": "stdout",
     "output_type": "stream",
     "text": [
      "\n",
      "skipping all of it\n",
      "more than one feature vec for this region (19575, 2)!"
     ]
    },
    {
     "name": "stderr",
     "output_type": "stream",
     "text": [
      " 97%|█████████▋| 770/793 [2:09:01<03:51,  0.10it/s]"
     ]
    },
    {
     "name": "stdout",
     "output_type": "stream",
     "text": [
      "\n",
      "skipping all of it\n",
      "more than one feature vec for this region (19575, 2)!"
     ]
    },
    {
     "name": "stderr",
     "output_type": "stream",
     "text": [
      " 99%|█████████▉| 784/793 [2:11:17<01:30,  0.10it/s]"
     ]
    },
    {
     "name": "stdout",
     "output_type": "stream",
     "text": [
      "\n",
      "skipping all of it\n",
      "more than one feature vec for this region (27000, 1)!"
     ]
    },
    {
     "name": "stderr",
     "output_type": "stream",
     "text": [
      "                                                   "
     ]
    },
    {
     "name": "stdout",
     "output_type": "stream",
     "text": [
      "\n",
      "skipping all of it\n",
      "more than one feature vec for this region (27000, 2)!\n",
      "skipping all of it\n"
     ]
    },
    {
     "name": "stderr",
     "output_type": "stream",
     "text": [
      "\r"
     ]
    }
   ],
   "source": [
    "all_aucs = test_vocab(trefdf, X, wac, wac.keys())"
   ]
  },
  {
   "cell_type": "code",
   "execution_count": 100,
   "metadata": {
    "collapsed": true
   },
   "outputs": [],
   "source": [
    "#with gzip.open('all_aucs.pklz', 'w') as f:\n",
    "#    pickle.dump(all_aucs, f)"
   ]
  },
  {
   "cell_type": "code",
   "execution_count": 19,
   "metadata": {
    "collapsed": false
   },
   "outputs": [
    {
     "data": {
      "text/plain": [
       "[('all', 0.46921299692199064, 818),\n",
       " ('partial', 0.76674857770953686, 376),\n",
       " ('pointing', 0.72670135850368411, 96),\n",
       " ('both', 0.88474729575043998, 43),\n",
       " ('focus', 1.0, 42),\n",
       " ('yellow', 0.57607208377305086, 2518),\n",
       " ('four', 0.69444339686515433, 47),\n",
       " ('spiders', 0.52922582307430022, 97),\n",
       " ('railing', 0.84470974562278656, 85),\n",
       " ('dish', 0.88492417097923393, 230)]"
      ]
     },
     "execution_count": 19,
     "metadata": {},
     "output_type": "execute_result"
    }
   ],
   "source": [
    "all_aucs[:10]"
   ]
  },
  {
   "cell_type": "code",
   "execution_count": 24,
   "metadata": {
    "collapsed": false
   },
   "outputs": [],
   "source": [
    "auc_dic = {w:s for w,s,_ in all_aucs}"
   ]
  },
  {
   "cell_type": "code",
   "execution_count": 25,
   "metadata": {
    "collapsed": false
   },
   "outputs": [
    {
     "data": {
      "text/plain": [
       "0.52922582307430022"
      ]
     },
     "execution_count": 25,
     "metadata": {},
     "output_type": "execute_result"
    }
   ],
   "source": [
    "auc_dic['spiders']"
   ]
  },
  {
   "cell_type": "code",
   "execution_count": 45,
   "metadata": {
    "collapsed": false
   },
   "outputs": [
    {
     "data": {
      "text/plain": [
       "(0.47944384855538064,\n",
       " 0.55288787415413687,\n",
       " 0.66874076240980218,\n",
       " 0.57607208377305086,\n",
       " 0.55811615151335103)"
      ]
     },
     "execution_count": 45,
     "metadata": {},
     "output_type": "execute_result"
    }
   ],
   "source": [
    "auc_dic['white'], auc_dic['black'], auc_dic['red'], auc_dic['yellow'], auc_dic['green']"
   ]
  },
  {
   "cell_type": "code",
   "execution_count": 34,
   "metadata": {
    "collapsed": false
   },
   "outputs": [],
   "source": [
    "auc_sorted = np.array(sorted([(w,s,p) for w,s,p in all_aucs], key=itemgetter(1), reverse=True))"
   ]
  },
  {
   "cell_type": "code",
   "execution_count": 41,
   "metadata": {
    "collapsed": false
   },
   "outputs": [
    {
     "data": {
      "image/png": "[encoded data removed]",
      "text/plain": [
       "<matplotlib.figure.Figure at 0x10efb8b90>"
      ]
     },
     "metadata": {},
     "output_type": "display_data"
    }
   ],
   "source": [
    "plt.figure(figsize=(20,5))\n",
    "plt.plot(range(len(auc_sorted)), auc_sorted[:,1])\n",
    "xs_thinned = range(0,len(auc_sorted), 10)\n",
    "xtick_labels = auc_sorted[:,0][xs_thinned]\n",
    "_ = plt.xticks(xs_thinned, xtick_labels, rotation='vertical')"
   ]
  },
  {
   "cell_type": "code",
   "execution_count": 43,
   "metadata": {
    "collapsed": false
   },
   "outputs": [
    {
     "data": {
      "text/plain": [
       "array([['those', '0.484657846386', '51'],\n",
       "       ['edge', '0.481469283592', '654'],\n",
       "       ['there', '0.480812234607', '69'],\n",
       "       ['or', '0.480419696271', '302'],\n",
       "       ['white', '0.479443848555', '9222'],\n",
       "       ['-', '0.477194281409', '125'],\n",
       "       ['little', '0.476280723571', '673'],\n",
       "       ['them', '0.470851016589', '68'],\n",
       "       ['barely', '0.470724562921', '89'],\n",
       "       ['brown', '0.470569392013', '1983'],\n",
       "       ['all', '0.469212996922', '818'],\n",
       "       ['mid', '0.468982058216', '149'],\n",
       "       ['is', '0.468374556651', '1473'],\n",
       "       ['thing', '0.466602278181', '1432'],\n",
       "       ['dark', '0.464630552502', '983'],\n",
       "       ['watching', '0.463965201465', '41'],\n",
       "       ['by', '0.462214624307', '829'],\n",
       "       ['floral', '0.457154882155', '42'],\n",
       "       ['back', '0.455990025579', '4965'],\n",
       "       ['with', '0.453852798792', '7407'],\n",
       "       ['other', '0.450235741234', '113'],\n",
       "       ['near', '0.446271572863', '907'],\n",
       "       ['two', '0.444869876129', '350'],\n",
       "       ['screen', '0.441700738843', '760'],\n",
       "       ['so', '0.440192588958', '96'],\n",
       "       ['front', '0.438905667654', '8360'],\n",
       "       ['you', '0.43426550133', '631'],\n",
       "       ['photo', '0.430418593808', '390'],\n",
       "       ['up', '0.4301773546', '968'],\n",
       "       ['one', '0.427578892011', '1611'],\n",
       "       ['it', '0.425775816502', '749'],\n",
       "       ['space', '0.42458141973', '100'],\n",
       "       ['okay', '0.417971404284', '70'],\n",
       "       ['side', '0.412871708769', '3682'],\n",
       "       ['click', '0.411138646539', '474'],\n",
       "       ['part', '0.406254823725', '1317'],\n",
       "       ['pic', '0.40327691231', '956'],\n",
       "       ['at', '0.40006885769', '2797'],\n",
       "       ['that', '0.397400894274', '1034'],\n",
       "       ['area', '0.396304236499', '1021'],\n",
       "       ['directly', '0.385765950991', '47'],\n",
       "       ['in', '0.375171821818', '24578'],\n",
       "       ['on', '0.368732349312', '35658'],\n",
       "       ['and', '0.361419917715', '2021'],\n",
       "       ['to', '0.340703665072', '4746'],\n",
       "       ['just', '0.329639040981', '254'],\n",
       "       ['of', '0.282806154756', '10340'],\n",
       "       ['oclock', '0.166666666667', '42'],\n",
       "       ['cheese', '0.161255411255', '49'],\n",
       "       ['keyboard', '0.125', '201']], \n",
       "      dtype='|S14')"
      ]
     },
     "execution_count": 43,
     "metadata": {},
     "output_type": "execute_result"
    }
   ],
   "source": [
    "auc_sorted[-50:,]"
   ]
  },
  {
   "cell_type": "code",
   "execution_count": 46,
   "metadata": {
    "collapsed": false
   },
   "outputs": [
    {
     "data": {
      "text/plain": [
       "array([['focus', '1.0', '42'],\n",
       "       ['dessert', '1.0', '62'],\n",
       "       ['kitty', '1.0', '52'],\n",
       "       ['uniform', '1.0', '74'],\n",
       "       ['soldier', '1.0', '54'],\n",
       "       ['rice', '1.0', '70'],\n",
       "       ['soup', '1.0', '55'],\n",
       "       ['elephant', '1.0', '2230'],\n",
       "       ['lamb', '1.0', '103'],\n",
       "       ['oven', '1.0', '149'],\n",
       "       ['police', '1.0', '62'],\n",
       "       ['sauce', '1.0', '70'],\n",
       "       ['dad', '1.0', '74'],\n",
       "       ['skater', '1.0', '78'],\n",
       "       ['zebra', '1.0', '2102'],\n",
       "       ['mostly', '1.0', '41'],\n",
       "       ['12', '1.0', '41'],\n",
       "       ['bride', '1.0', '194'],\n",
       "       ['carrots', '1.0', '132'],\n",
       "       ['camo', '1.0', '48'],\n",
       "       ['carrot', '1.0', '211'],\n",
       "       ['batter', '1.0', '1008'],\n",
       "       ['polka', '1.0', '60'],\n",
       "       ['cop', '1.0', '92'],\n",
       "       ['bull', '1.0', '46'],\n",
       "       ['mother', '1.0', '42'],\n",
       "       ['traffic', '1.0', '57'],\n",
       "       ['doughnut', '1.0', '147'],\n",
       "       ['cutoff', '1.0', '66'],\n",
       "       ['cycle', '1.0', '62'],\n",
       "       ['umpire', '1.0', '364'],\n",
       "       ['pie', '1.0', '104'],\n",
       "       ['sandwhich', '1.0', '82'],\n",
       "       ['giraffe', '0.9968227466', '1800'],\n",
       "       ['coffee', '0.990395667551', '111'],\n",
       "       ['court', '0.989968296046', '104'],\n",
       "       ['monitor', '0.988271604938', '383'],\n",
       "       ['riding', '0.988140344909', '84'],\n",
       "       ['penguin', '0.987433886418', '65'],\n",
       "       ['american', '0.984105563053', '40'],\n",
       "       ['upside', '0.983402203857', '47'],\n",
       "       ['balloon', '0.98085032271', '59'],\n",
       "       ['ball', '0.977900679447', '266'],\n",
       "       ['mug', '0.97763707741', '155'],\n",
       "       ['turtle', '0.976485014634', '55'],\n",
       "       ['tennis', '0.968352609601', '237'],\n",
       "       ['beer', '0.967630853088', '197'],\n",
       "       ['seal', '0.966730571118', '203'],\n",
       "       ['cell', '0.963333333333', '87'],\n",
       "       ['cow', '0.961262187374', '1434']], \n",
       "      dtype='|S14')"
      ]
     },
     "execution_count": 46,
     "metadata": {},
     "output_type": "execute_result"
    }
   ],
   "source": [
    "auc_sorted[:50,]"
   ]
  },
  {
   "cell_type": "code",
   "execution_count": 53,
   "metadata": {
    "collapsed": false
   },
   "outputs": [],
   "source": [
    "y_t, y_s = run_wac_on_data(trefdf, X, wac, 'dessert')"
   ]
  },
  {
   "cell_type": "code",
   "execution_count": 55,
   "metadata": {
    "collapsed": false
   },
   "outputs": [
    {
     "data": {
      "text/plain": [
       "(array([ True, False, False, False], dtype=bool),\n",
       " array([  7.29804020e-01,   5.75950503e-03,   1.29903665e-03,\n",
       "          2.25057720e-04]),\n",
       " 1.0)"
      ]
     },
     "execution_count": 55,
     "metadata": {},
     "output_type": "execute_result"
    }
   ],
   "source": [
    "y_t, y_s, average_precision_score(y_t, y_s)"
   ]
  },
  {
   "cell_type": "code",
   "execution_count": 56,
   "metadata": {
    "collapsed": true
   },
   "outputs": [],
   "source": [
    "w2d_full = create_word2den(trefdf, wac.keys())"
   ]
  },
  {
   "cell_type": "code",
   "execution_count": 59,
   "metadata": {
    "collapsed": false
   },
   "outputs": [
    {
     "data": {
      "text/plain": [
       "589"
      ]
     },
     "execution_count": 59,
     "metadata": {},
     "output_type": "execute_result"
    }
   ],
   "source": [
    "len([w for w, frids in w2d_full.items() if len(frids) > 20])"
   ]
  },
  {
   "cell_type": "code",
   "execution_count": 61,
   "metadata": {
    "collapsed": true
   },
   "outputs": [],
   "source": [
    "reliable_words = [w for w, frids in w2d_full.items() if len(frids) > 20]"
   ]
  },
  {
   "cell_type": "code",
   "execution_count": 66,
   "metadata": {
    "collapsed": false
   },
   "outputs": [],
   "source": [
    "r_auc_sorted = np.array(sorted([(w,s,p) for w,s,p in all_aucs if w in reliable_words],\n",
    "                               key=itemgetter(1), reverse=True))"
   ]
  },
  {
   "cell_type": "code",
   "execution_count": 67,
   "metadata": {
    "collapsed": false
   },
   "outputs": [
    {
     "data": {
      "text/plain": [
       "array([['giraffe', '0.9968227466', '1800'],\n",
       "       ['coffee', '0.990395667551', '111'],\n",
       "       ['court', '0.989968296046', '104'],\n",
       "       ..., \n",
       "       ['to', '0.340703665072', '4746'],\n",
       "       ['just', '0.329639040981', '254'],\n",
       "       ['of', '0.282806154756', '10340']], \n",
       "      dtype='|S14')"
      ]
     },
     "execution_count": 67,
     "metadata": {},
     "output_type": "execute_result"
    }
   ],
   "source": [
    "r_auc_sorted"
   ]
  },
  {
   "cell_type": "code",
   "execution_count": 72,
   "metadata": {
    "collapsed": false
   },
   "outputs": [
    {
     "data": {
      "image/png": "[encoded data removed]",
      "text/plain": [
       "<matplotlib.figure.Figure at 0x1134d2210>"
      ]
     },
     "metadata": {},
     "output_type": "display_data"
    }
   ],
   "source": [
    "plt.figure(figsize=(20,5))\n",
    "plt.plot(range(len(r_auc_sorted)), r_auc_sorted[:,1])\n",
    "xs_thinned = range(0,len(r_auc_sorted), 8)\n",
    "xtick_labels = r_auc_sorted[:,0][xs_thinned]\n",
    "_ = plt.xticks(xs_thinned, xtick_labels, rotation='vertical')"
   ]
  },
  {
   "cell_type": "code",
   "execution_count": 84,
   "metadata": {
    "collapsed": false
   },
   "outputs": [
    {
     "data": {
      "text/plain": [
       "(0.73101622, 0.15192689)"
      ]
     },
     "execution_count": 84,
     "metadata": {},
     "output_type": "execute_result"
    }
   ],
   "source": [
    "np.mean(r_auc_sorted[:,1].astype('f')), np.std(r_auc_sorted[:,1].astype('f'))"
   ]
  },
  {
   "cell_type": "code",
   "execution_count": 85,
   "metadata": {
    "collapsed": false
   },
   "outputs": [
    {
     "data": {
      "text/plain": [
       "array([['giraffe', '0.9968227466', '1800'],\n",
       "       ['coffee', '0.990395667551', '111'],\n",
       "       ['court', '0.989968296046', '104'],\n",
       "       ['riding', '0.988140344909', '84'],\n",
       "       ['penguin', '0.987433886418', '65'],\n",
       "       ['balloon', '0.98085032271', '59'],\n",
       "       ['ball', '0.977900679447', '266'],\n",
       "       ['mug', '0.97763707741', '155'],\n",
       "       ['turtle', '0.976485014634', '55'],\n",
       "       ['tennis', '0.968352609601', '237'],\n",
       "       ['beer', '0.967630853088', '197'],\n",
       "       ['seal', '0.966730571118', '203'],\n",
       "       ['cow', '0.961262187374', '1434'],\n",
       "       ['bird', '0.960826804609', '1027'],\n",
       "       ['horse', '0.958366120189', '2423'],\n",
       "       ['drink', '0.957494730745', '171'],\n",
       "       ['koala', '0.957112198352', '48'],\n",
       "       ['sheep', '0.955287895552', '968'],\n",
       "       ['ceiling', '0.953039967671', '217'],\n",
       "       ['parrot', '0.951885970536', '45'],\n",
       "       ['bike', '0.951151886975', '2138'],\n",
       "       ['cactus', '0.950033268334', '290'],\n",
       "       ['sun', '0.948779943226', '169'],\n",
       "       ['smoke', '0.947966087382', '51'],\n",
       "       ['llama', '0.946800460393', '133'],\n",
       "       ['fruit', '0.946563007747', '321'],\n",
       "       ['ruins', '0.946001430153', '55'],\n",
       "       ['waterfall', '0.945599854819', '203'],\n",
       "       ['nightstand', '0.944814136589', '58'],\n",
       "       ['books', '0.944654674105', '86']], \n",
       "      dtype='|S14')"
      ]
     },
     "execution_count": 85,
     "metadata": {},
     "output_type": "execute_result"
    }
   ],
   "source": [
    "r_auc_sorted[:30]"
   ]
  },
  {
   "cell_type": "code",
   "execution_count": 86,
   "metadata": {
    "collapsed": false
   },
   "outputs": [
    {
     "data": {
      "text/plain": [
       "array([['by', '0.462214624307', '829'],\n",
       "       ['back', '0.455990025579', '4965'],\n",
       "       ['with', '0.453852798792', '7407'],\n",
       "       ['other', '0.450235741234', '113'],\n",
       "       ['near', '0.446271572863', '907'],\n",
       "       ['two', '0.444869876129', '350'],\n",
       "       ['screen', '0.441700738843', '760'],\n",
       "       ['so', '0.440192588958', '96'],\n",
       "       ['front', '0.438905667654', '8360'],\n",
       "       ['you', '0.43426550133', '631'],\n",
       "       ['photo', '0.430418593808', '390'],\n",
       "       ['up', '0.4301773546', '968'],\n",
       "       ['one', '0.427578892011', '1611'],\n",
       "       ['it', '0.425775816502', '749'],\n",
       "       ['space', '0.42458141973', '100'],\n",
       "       ['okay', '0.417971404284', '70'],\n",
       "       ['side', '0.412871708769', '3682'],\n",
       "       ['click', '0.411138646539', '474'],\n",
       "       ['part', '0.406254823725', '1317'],\n",
       "       ['pic', '0.40327691231', '956'],\n",
       "       ['at', '0.40006885769', '2797'],\n",
       "       ['that', '0.397400894274', '1034'],\n",
       "       ['area', '0.396304236499', '1021'],\n",
       "       ['directly', '0.385765950991', '47'],\n",
       "       ['in', '0.375171821818', '24578'],\n",
       "       ['on', '0.368732349312', '35658'],\n",
       "       ['and', '0.361419917715', '2021'],\n",
       "       ['to', '0.340703665072', '4746'],\n",
       "       ['just', '0.329639040981', '254'],\n",
       "       ['of', '0.282806154756', '10340']], \n",
       "      dtype='|S14')"
      ]
     },
     "execution_count": 86,
     "metadata": {},
     "output_type": "execute_result"
    }
   ],
   "source": [
    "r_auc_sorted[-30:]"
   ]
  },
  {
   "cell_type": "code",
   "execution_count": 92,
   "metadata": {
    "collapsed": false
   },
   "outputs": [
    {
     "name": "stdout",
     "output_type": "stream",
     "text": [
      "['giraffe', 'coffee', 'court', 'riding', 'penguin', 'balloon', 'ball', 'mug', 'turtle', 'tennis', 'beer', 'seal', 'cow', 'bird', 'horse', 'drink', 'koala', 'sheep', 'ceiling', 'parrot', 'bike', 'cactus', 'sun', 'smoke', 'llama', 'fruit', 'ruins', 'waterfall', 'nightstand', 'books', 'night', 'coke', 'skirt', 'leaf', 'wheel', 'label', 'pot', 'animals', 'cup', 'tablecloth', 'pillar', 'flag', 'field', 'monkey', 'bowl', 'curtain', 'plate', 'van', 'surfboard', 'bottle', 'fish', 'umbrella', 'bus', 'shirtless', 'train', 'bed', 'painting', 'lamp', 'metal', 'paper', 'sky', 'luggage', 'player', 'face', 'going', 'desk', 'ship', 'raft', 'lying', 'vehicle', 'trunk', 'couch', 'palm', 'dress', 'doors', 'fountain', 'column', 'cars', 'flowers', 'tire', 'plane', 'against', 'bunch', 'car', 'shelf', 'bunk', 'boat', 'dog', 'vase', 'animal', 'pack', 'anyone', 'clock', 'glass', 'tile', 'window', 'chair', 'phone', 'across', 'cake', 'branches', 'bicycle', 'snow', 'windows', 'book', 'curtains', 'bear', 'guitar', 'dish', 'both', 'tower', 'truck', 'bridge', 'creepy', 'cloud', 'suit', 'stool', 'tv', 'flower', 'seat', 'buildings', 'shoes', 'bread', 'hut', 'donkey', 'had', 'were', 'fire', 'food', 'turned', 'mountains', 'city', 'range', 'inside', 'carpet', 'beach', 'walls', 'ice', 'crowd', 'mirror', 'brush', 'road', 'anything', 'blanket', 'clouds', 'island', 'building', 'door', '4th', 'stripes', 'bottles', 'cross', 'gold', 'smiling', 'pillow']\n"
     ]
    }
   ],
   "source": [
    "top = [w for w,s,_ in r_auc_sorted if float(s) > 0.85]\n",
    "len(top)\n",
    "print top"
   ]
  },
  {
   "cell_type": "code",
   "execution_count": 93,
   "metadata": {
    "collapsed": false
   },
   "outputs": [
    {
     "name": "stdout",
     "output_type": "stream",
     "text": [
      "['shadow', \"woman's\", 'was', 'bright', 'lol', 'blue', 'her', 'yes', 'blk', 'this', 'from', 'almost', 'colored', 'looking', 'lighter', 'far', 'foreground', 'yellow', 'looks', 'very', 'second', 'its', 'dat', 'stack', 'dudes', 'men', 'him', 'arm', 'smaller', 'half', 'piece', 'out', 'item', 'line', 'stuff', 'he', 'spot', 'green', 'head', 'see', 'be', 'black', 'think', 'leg', 'way', 'women', 'furthest', 'rt', 'most', 'big', 'grey', 'only', 'like', 'corner', 'picture', 'shoulder', 'no', 'spiders', 'n', 'has', 'his', 'we', 'bit', 'spider', 'guys', '2', 'portion', 'are', 'section', 'us', 'towards', 'sorry', 'where', 'small', 'gray', 'image', 'but', 'something', 'center', 'i', 'closest', 'first', 'middle', 'those', 'edge', 'there', 'or', 'white', '-', 'little', 'them', 'barely', 'brown', 'all', 'mid', 'is', 'thing', 'dark', 'by', 'back', 'with', 'other', 'near', 'two', 'screen', 'so', 'front', 'you', 'photo', 'up', 'one', 'it', 'space', 'okay', 'side', 'click', 'part', 'pic', 'at', 'that', 'area', 'directly', 'in', 'on', 'and', 'to', 'just', 'of']\n"
     ]
    }
   ],
   "source": [
    "bottom = [w for w,s,_ in r_auc_sorted if float(s) < 0.60]\n",
    "len(bottom)\n",
    "print bottom"
   ]
  },
  {
   "cell_type": "code",
   "execution_count": 98,
   "metadata": {
    "collapsed": false
   },
   "outputs": [
    {
     "data": {
      "text/plain": [
       "(0.60635262576562499, 0.07944093779771419)"
      ]
     },
     "execution_count": 98,
     "metadata": {},
     "output_type": "execute_result"
    }
   ],
   "source": [
    "colours = ['white', 'black', 'red', 'green', 'blue', 'yellow', 'purple', 'pink']\n",
    "c_s = [float(s) for w,s,_ in r_auc_sorted if w in colours]\n",
    "np.mean(c_s), np.std(c_s)"
   ]
  },
  {
   "cell_type": "code",
   "execution_count": 99,
   "metadata": {
    "collapsed": false
   },
   "outputs": [
    {
     "data": {
      "text/plain": [
       "(0.53986584303850005, 0.10027611596073593)"
      ]
     },
     "execution_count": 99,
     "metadata": {},
     "output_type": "execute_result"
    }
   ],
   "source": [
    "positions = 'left right middle center front back'.split()\n",
    "p_s = [float(s) for w,s,_ in r_auc_sorted if w in positions]\n",
    "np.mean(p_s), np.std(p_s)"
   ]
  },
  {
   "cell_type": "code",
   "execution_count": null,
   "metadata": {
    "collapsed": true
   },
   "outputs": [],
   "source": []
  }
 ],
 "metadata": {
  "kernelspec": {
   "display_name": "Python 2",
   "language": "python",
   "name": "python2"
  },
  "language_info": {
   "codemirror_mode": {
    "name": "ipython",
    "version": 2
   },
   "file_extension": ".py",
   "mimetype": "text/x-python",
   "name": "python",
   "nbconvert_exporter": "python",
   "pygments_lexer": "ipython2",
   "version": "2.7.11"
  }
 },
 "nbformat": 4,
 "nbformat_minor": 0
}
